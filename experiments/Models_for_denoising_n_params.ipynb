{
 "cells": [
  {
   "cell_type": "code",
   "execution_count": 1,
   "metadata": {},
   "outputs": [],
   "source": [
    "import numpy as np\n",
    "import pandas as pd\n",
    "import tensorflow as tf\n",
    "from tensorflow.keras import backend as K\n",
    "\n",
    "from fastmri_recon.models.subclassed_models.denoisers.proposed_params import get_models\n",
    "from fastmri_recon.models.subclassed_models.xpdnet import XPDNet\n",
    "from fastmri_recon.models.training.compile import default_model_compile"
   ]
  },
  {
   "cell_type": "code",
   "execution_count": 2,
   "metadata": {},
   "outputs": [],
   "source": [
    "n_primal = 5\n",
    "test_memory_fit = False\n",
    "write_to_csv = True\n",
    "\n",
    "if write_to_csv:\n",
    "    df_params = pd.DataFrame(columns=['model_name', 'model_size', 'n_params'])"
   ]
  },
  {
   "cell_type": "code",
   "execution_count": 3,
   "metadata": {},
   "outputs": [],
   "source": [
    "def test_works_in_xpdnet_train(model, n_scales, res):\n",
    "    run_params = {\n",
    "        'n_primal': n_primal,\n",
    "        'multicoil': False,\n",
    "        'n_scales': n_scales,\n",
    "        'n_iter': 10,\n",
    "        'refine_smaps': False,\n",
    "        'res': res,\n",
    "    }\n",
    "    model = XPDNet(model, **run_params)\n",
    "    default_model_compile(model, lr=1e-3, loss='mae')\n",
    "    model.fit(\n",
    "        x=[\n",
    "            tf.zeros([1, 640, 640, 1], dtype=tf.complex64),\n",
    "            tf.zeros([1, 640, 640], dtype=tf.complex64),\n",
    "        ],\n",
    "        y=tf.zeros([1, 320, 320, 1]),\n",
    "        epochs=1,\n",
    "    )"
   ]
  },
  {
   "cell_type": "code",
   "execution_count": 4,
   "metadata": {},
   "outputs": [
    {
     "name": "stderr",
     "output_type": "stream",
     "text": [
      "Models:   0%|          | 0/4 [00:00<?, ?it/s]\n",
      "DnCNN:   0%|          | 0/3 [00:00<?, ?it/s]\u001b[A"
     ]
    },
    {
     "name": "stdout",
     "output_type": "stream",
     "text": [
      "DnCNN big\n"
     ]
    },
    {
     "name": "stderr",
     "output_type": "stream",
     "text": [
      "\n",
      "DnCNN: 100%|██████████| 3/3 [00:00<00:00, 10.73it/s]\u001b[A\n",
      "Models:  25%|██▌       | 1/4 [00:00<00:00,  3.55it/s]\n",
      "FocNet:   0%|          | 0/2 [00:00<?, ?it/s]\u001b[A"
     ]
    },
    {
     "name": "stdout",
     "output_type": "stream",
     "text": [
      "677450\n",
      "DnCNN medium\n",
      "80362\n",
      "DnCNN small\n",
      "10154\n",
      "FocNet medium\n"
     ]
    },
    {
     "name": "stderr",
     "output_type": "stream",
     "text": [
      "\n",
      "FocNet:  50%|█████     | 1/2 [00:00<00:00,  4.14it/s]\u001b[A\n",
      "FocNet: 100%|██████████| 2/2 [00:00<00:00,  4.89it/s]\u001b[A\n",
      "Models:  50%|█████     | 2/4 [00:00<00:00,  3.12it/s]\n",
      "MWCNN:   0%|          | 0/3 [00:00<?, ?it/s]\u001b[A"
     ]
    },
    {
     "name": "stdout",
     "output_type": "stream",
     "text": [
      "621698.0\n",
      "FocNet small\n",
      "455674.0\n",
      "MWCNN big\n"
     ]
    },
    {
     "name": "stderr",
     "output_type": "stream",
     "text": [
      "\n",
      "MWCNN:  33%|███▎      | 1/3 [00:00<00:00,  4.66it/s]\u001b[A\n",
      "MWCNN:  67%|██████▋   | 2/3 [00:00<00:00,  5.09it/s]\u001b[A"
     ]
    },
    {
     "name": "stdout",
     "output_type": "stream",
     "text": [
      "24932746\n",
      "MWCNN medium\n",
      "6217930\n",
      "MWCNN small\n"
     ]
    },
    {
     "name": "stderr",
     "output_type": "stream",
     "text": [
      "MWCNN: 100%|██████████| 3/3 [00:00<00:00,  6.63it/s]\n",
      "Models:  75%|███████▌  | 3/4 [00:01<00:00,  2.77it/s]\n",
      "U-net:   0%|          | 0/3 [00:00<?, ?it/s]\u001b[A\n",
      "U-net:  33%|███▎      | 1/3 [00:00<00:00,  5.21it/s]\u001b[A"
     ]
    },
    {
     "name": "stdout",
     "output_type": "stream",
     "text": [
      "338122\n",
      "U-net big\n",
      "1928600\n",
      "U-net medium\n"
     ]
    },
    {
     "name": "stderr",
     "output_type": "stream",
     "text": [
      "\n",
      "U-net: 100%|██████████| 3/3 [00:00<00:00,  6.61it/s]\u001b[A\n",
      "Models: 100%|██████████| 4/4 [00:01<00:00,  2.49it/s]"
     ]
    },
    {
     "name": "stdout",
     "output_type": "stream",
     "text": [
      "483592\n",
      "U-net small\n",
      "58536\n"
     ]
    },
    {
     "name": "stderr",
     "output_type": "stream",
     "text": [
      "\n"
     ]
    }
   ],
   "source": [
    "for model_name, model_size, model, n_scales, res in get_models(n_primal):\n",
    "    trainable_count = np.sum([K.count_params(w) for w in model.trainable_weights])\n",
    "    print(trainable_count)\n",
    "    if test_memory_fit:\n",
    "        try:\n",
    "            test_works_in_xpdnet_train(model, n_scales=n_scales, res=res)\n",
    "        except tf.errors.ResourceExhaustedError:\n",
    "            print('Does not fit in memory for xpdnet')\n",
    "    if write_to_csv:\n",
    "        df_params = df_params.append(dict(\n",
    "            model_name=model_name,\n",
    "            model_size=model_size,\n",
    "            n_params=int(trainable_count),\n",
    "        ), ignore_index=True)"
   ]
  },
  {
   "cell_type": "code",
   "execution_count": 5,
   "metadata": {},
   "outputs": [
    {
     "data": {
      "text/html": [
       "<div>\n",
       "<style scoped>\n",
       "    .dataframe tbody tr th:only-of-type {\n",
       "        vertical-align: middle;\n",
       "    }\n",
       "\n",
       "    .dataframe tbody tr th {\n",
       "        vertical-align: top;\n",
       "    }\n",
       "\n",
       "    .dataframe thead th {\n",
       "        text-align: right;\n",
       "    }\n",
       "</style>\n",
       "<table border=\"1\" class=\"dataframe\">\n",
       "  <thead>\n",
       "    <tr style=\"text-align: right;\">\n",
       "      <th></th>\n",
       "      <th>model_name</th>\n",
       "      <th>model_size</th>\n",
       "      <th>n_params</th>\n",
       "    </tr>\n",
       "  </thead>\n",
       "  <tbody>\n",
       "    <tr>\n",
       "      <th>0</th>\n",
       "      <td>DnCNN</td>\n",
       "      <td>big</td>\n",
       "      <td>677450</td>\n",
       "    </tr>\n",
       "    <tr>\n",
       "      <th>1</th>\n",
       "      <td>DnCNN</td>\n",
       "      <td>medium</td>\n",
       "      <td>80362</td>\n",
       "    </tr>\n",
       "    <tr>\n",
       "      <th>2</th>\n",
       "      <td>DnCNN</td>\n",
       "      <td>small</td>\n",
       "      <td>10154</td>\n",
       "    </tr>\n",
       "    <tr>\n",
       "      <th>3</th>\n",
       "      <td>FocNet</td>\n",
       "      <td>medium</td>\n",
       "      <td>621698</td>\n",
       "    </tr>\n",
       "    <tr>\n",
       "      <th>4</th>\n",
       "      <td>FocNet</td>\n",
       "      <td>small</td>\n",
       "      <td>455674</td>\n",
       "    </tr>\n",
       "    <tr>\n",
       "      <th>5</th>\n",
       "      <td>MWCNN</td>\n",
       "      <td>big</td>\n",
       "      <td>24932746</td>\n",
       "    </tr>\n",
       "    <tr>\n",
       "      <th>6</th>\n",
       "      <td>MWCNN</td>\n",
       "      <td>medium</td>\n",
       "      <td>6217930</td>\n",
       "    </tr>\n",
       "    <tr>\n",
       "      <th>7</th>\n",
       "      <td>MWCNN</td>\n",
       "      <td>small</td>\n",
       "      <td>338122</td>\n",
       "    </tr>\n",
       "    <tr>\n",
       "      <th>8</th>\n",
       "      <td>U-net</td>\n",
       "      <td>big</td>\n",
       "      <td>1928600</td>\n",
       "    </tr>\n",
       "    <tr>\n",
       "      <th>9</th>\n",
       "      <td>U-net</td>\n",
       "      <td>medium</td>\n",
       "      <td>483592</td>\n",
       "    </tr>\n",
       "    <tr>\n",
       "      <th>10</th>\n",
       "      <td>U-net</td>\n",
       "      <td>small</td>\n",
       "      <td>58536</td>\n",
       "    </tr>\n",
       "  </tbody>\n",
       "</table>\n",
       "</div>"
      ],
      "text/plain": [
       "   model_name model_size  n_params\n",
       "0       DnCNN        big    677450\n",
       "1       DnCNN     medium     80362\n",
       "2       DnCNN      small     10154\n",
       "3      FocNet     medium    621698\n",
       "4      FocNet      small    455674\n",
       "5       MWCNN        big  24932746\n",
       "6       MWCNN     medium   6217930\n",
       "7       MWCNN      small    338122\n",
       "8       U-net        big   1928600\n",
       "9       U-net     medium    483592\n",
       "10      U-net      small     58536"
      ]
     },
     "execution_count": 5,
     "metadata": {},
     "output_type": "execute_result"
    }
   ],
   "source": [
    "df_params"
   ]
  },
  {
   "cell_type": "code",
   "execution_count": 7,
   "metadata": {},
   "outputs": [],
   "source": [
    "df_params.to_csv('n_params_model.csv')"
   ]
  }
 ],
 "metadata": {
  "kernelspec": {
   "display_name": "Python 3",
   "language": "python",
   "name": "python3"
  },
  "language_info": {
   "codemirror_mode": {
    "name": "ipython",
    "version": 3
   },
   "file_extension": ".py",
   "mimetype": "text/x-python",
   "name": "python",
   "nbconvert_exporter": "python",
   "pygments_lexer": "ipython3",
   "version": "3.6.8"
  }
 },
 "nbformat": 4,
 "nbformat_minor": 2
}
